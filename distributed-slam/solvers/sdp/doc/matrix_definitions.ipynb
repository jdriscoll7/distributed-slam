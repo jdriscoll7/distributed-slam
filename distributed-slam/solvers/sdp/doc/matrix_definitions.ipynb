{
 "cells": [
  {
   "cell_type": "markdown",
   "source": [
    "For notation, the matrix $\\hat{W}$ is defined as\n",
    "\n",
    "\\begin{align} \\nonumber\n",
    "\\hat{W} = \\begin{bmatrix} A^TA & A^T \\tilde{D} \\\\ (A^T \\tilde{D})^* & \\tilde{U}^* \\tilde{U} + \\tilde{D}^* \\tilde{D} \\end{bmatrix},\n",
    "\\end{align}\n",
    "\n",
    "where the constituent matrices are defined as\n",
    "\n",
    "\n",
    "- $A$ = incidence matrix with first column deleted\n",
    "- $\\tilde{U}$ =  $(\\overline{U})^\\vee$\n",
    "- $\\tilde{D}$ = $(\\overline{D})^\\vee$ \n",
    "- $\\overline{U}$ = $k$-th block row (edge $k = (i, j)$) with $-R_{ij}$ and $I_2$ in block column $i$ and $j$ \n",
    "- $\\overline{D}$ = $k$-th block row (edge $k = (i, j)$) with $-D_{ij}$ in block column $i$\n",
    "- $(\\cdot)^\\vee:\\mathbb{R}^{2m \\times 2n}\\rightarrow\\mathbb{C}^{m \\times n}$ : converts every $2 \\times 2$ block (assumed to be in $\\alpha SO(2)$) into a complex number $\\alpha e^{j\\theta}$ representing that block\n",
    "\n",
    "and\n",
    "\n",
    "- $R_{ij}$ = relative rotation between nodes $i$ and $j$\n",
    "- $D_{ij}$ = $\\begin{bmatrix} \\Delta_{ij}^x & - \\Delta_{ij}^y \\\\ \\Delta_{ij}^y & \\Delta_{ij}^x \\end{bmatrix}$\n",
    "- $\\Delta_{ij}^j$ = coordinate $j$ of relative translation measurement"
   ],
   "metadata": {
    "collapsed": false
   }
  }
 ],
 "metadata": {
  "language_info": {
   "codemirror_mode": {
    "name": "ipython",
    "version": 2
   },
   "file_extension": ".py",
   "mimetype": "text/x-python",
   "name": "python",
   "nbconvert_exporter": "python",
   "pygments_lexer": "ipython2",
   "version": "2.7.6"
  },
  "kernelspec": {
   "name": "python3",
   "language": "python",
   "display_name": "Python 3"
  },
  "pycharm": {
   "stem_cell": {
    "cell_type": "raw",
    "source": [],
    "metadata": {
     "collapsed": false
    }
   }
  }
 },
 "nbformat": 4,
 "nbformat_minor": 0
}